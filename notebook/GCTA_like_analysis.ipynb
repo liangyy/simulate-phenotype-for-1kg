{
 "cells": [
  {
   "cell_type": "code",
   "execution_count": 1,
   "metadata": {},
   "outputs": [
    {
     "name": "stderr",
     "output_type": "stream",
     "text": [
      "Running on Apache Spark version 2.4.1\n",
      "SparkUI available at http://admins-mbp:4040\n",
      "Welcome to\n",
      "     __  __     <>__\n",
      "    / /_/ /__  __/ /\n",
      "   / __  / _ `/ / /\n",
      "  /_/ /_/\\_,_/_/_/   version 0.2.28-61941242c15d\n",
      "LOGGING: writing to /Users/yanyul/Documents/repo/github/toy-example-of-hail-using-1kg/notebook/hail-20191212-2333-0.2.28-61941242c15d.log\n"
     ]
    }
   ],
   "source": [
    "import hail as hl\n",
    "import numpy as np\n",
    "import os.path\n",
    "hl.init()"
   ]
  },
  {
   "cell_type": "markdown",
   "metadata": {},
   "source": [
    "### Goal: GCTA analysis to estimate heritability\n",
    "Workflow is\n",
    "* Load genotype and a phenotype\n",
    "* Run `linear_mixed_model`"
   ]
  },
  {
   "cell_type": "code",
   "execution_count": 2,
   "metadata": {},
   "outputs": [],
   "source": [
    "# load genotype and filter out variant not passing QC\n",
    "mt = hl.read_matrix_table('data/1kg.mt')\n",
    "variant = hl.read_table('output/variant_qc.ht')\n",
    "mt = mt.filter_rows(hl.is_defined(variant[mt.locus, mt.alleles]))"
   ]
  },
  {
   "cell_type": "code",
   "execution_count": 3,
   "metadata": {},
   "outputs": [
    {
     "name": "stderr",
     "output_type": "stream",
     "text": [
      "2019-12-12 23:33:10 Hail: INFO: Reading table with no type imputation\n",
      "  Loading column 's' as type 'str' (type not specified)\n",
      "  Loading column 'trait_0' as type 'float64' (user-specified)\n",
      "  Loading column 'trait_1' as type 'float64' (user-specified)\n",
      "  Loading column 'trait_2' as type 'float64' (user-specified)\n",
      "  Loading column 'trait_3' as type 'float64' (user-specified)\n",
      "  Loading column 'trait_4' as type 'float64' (user-specified)\n",
      "  Loading column 'trait_5' as type 'float64' (user-specified)\n",
      "  Loading column 'trait_6' as type 'float64' (user-specified)\n",
      "  Loading column 'trait_7' as type 'float64' (user-specified)\n",
      "  Loading column 'trait_8' as type 'float64' (user-specified)\n",
      "  Loading column 'trait_9' as type 'float64' (user-specified)\n",
      "  Loading column 'trait_10' as type 'float64' (user-specified)\n",
      "  Loading column 'trait_11' as type 'float64' (user-specified)\n",
      "  Loading column 'trait_12' as type 'float64' (user-specified)\n",
      "  Loading column 'trait_13' as type 'float64' (user-specified)\n",
      "  Loading column 'trait_14' as type 'float64' (user-specified)\n",
      "  Loading column 'trait_15' as type 'float64' (user-specified)\n",
      "  Loading column 'trait_16' as type 'float64' (user-specified)\n",
      "  Loading column 'trait_17' as type 'float64' (user-specified)\n",
      "  Loading column 'trait_18' as type 'float64' (user-specified)\n",
      "  Loading column 'trait_19' as type 'float64' (user-specified)\n",
      "\n"
     ]
    }
   ],
   "source": [
    "# load phenotype\n",
    "trait_dic = {\n",
    "    f'trait_{i}' : hl.tfloat for i in range(20)\n",
    "}\n",
    "pheno = hl.import_table('output/indiv_pheno.tsv', types = trait_dic, key = 's')"
   ]
  },
  {
   "cell_type": "code",
   "execution_count": 4,
   "metadata": {},
   "outputs": [
    {
     "name": "stderr",
     "output_type": "stream",
     "text": [
      "2019-12-12 23:33:10 Hail: INFO: Reading table with no type imputation\n",
      "  Loading column 's' as type 'str' (type not specified)\n",
      "  Loading column 'covar_0' as type 'float64' (user-specified)\n",
      "  Loading column 'covar_1' as type 'float64' (user-specified)\n",
      "  Loading column 'covar_2' as type 'float64' (user-specified)\n",
      "  Loading column 'covar_3' as type 'float64' (user-specified)\n",
      "  Loading column 'covar_4' as type 'float64' (user-specified)\n",
      "\n"
     ]
    }
   ],
   "source": [
    "# load covariates\n",
    "covar_dic = {\n",
    "    f'covar_{i}' : hl.tfloat for i in range(5)\n",
    "}\n",
    "covar = hl.import_table('output/indiv_covar.tsv', types = covar_dic, key = 's')"
   ]
  },
  {
   "cell_type": "code",
   "execution_count": 5,
   "metadata": {},
   "outputs": [
    {
     "name": "stdout",
     "output_type": "stream",
     "text": [
      "----------------------------------------\n",
      "Global fields:\n",
      "    None\n",
      "----------------------------------------\n",
      "Column fields:\n",
      "    's': str\n",
      "    'trait': float64\n",
      "    'covariates': struct {\n",
      "        covar_0: float64, \n",
      "        covar_1: float64, \n",
      "        covar_2: float64, \n",
      "        covar_3: float64, \n",
      "        covar_4: float64\n",
      "    }\n",
      "----------------------------------------\n",
      "Row fields:\n",
      "    'locus': locus<GRCh37>\n",
      "    'alleles': array<str>\n",
      "    'rsid': str\n",
      "    'qual': float64\n",
      "    'filters': set<str>\n",
      "    'info': struct {\n",
      "        AC: array<int32>, \n",
      "        AF: array<float64>, \n",
      "        AN: int32, \n",
      "        BaseQRankSum: float64, \n",
      "        ClippingRankSum: float64, \n",
      "        DP: int32, \n",
      "        DS: bool, \n",
      "        FS: float64, \n",
      "        HaplotypeScore: float64, \n",
      "        InbreedingCoeff: float64, \n",
      "        MLEAC: array<int32>, \n",
      "        MLEAF: array<float64>, \n",
      "        MQ: float64, \n",
      "        MQ0: int32, \n",
      "        MQRankSum: float64, \n",
      "        QD: float64, \n",
      "        ReadPosRankSum: float64, \n",
      "        set: str\n",
      "    }\n",
      "----------------------------------------\n",
      "Entry fields:\n",
      "    'GT': call\n",
      "    'AD': array<int32>\n",
      "    'DP': int32\n",
      "    'GQ': int32\n",
      "    'PL': array<int32>\n",
      "----------------------------------------\n",
      "Column key: ['s']\n",
      "Row key: ['locus', 'alleles']\n",
      "----------------------------------------\n"
     ]
    }
   ],
   "source": [
    "# annotate genotype table with phenotype\n",
    "# here I selected trait_1 since it has many causal variants\n",
    "mt = mt.annotate_cols(trait = pheno[mt.s].trait_1)\n",
    "mt = mt.annotate_cols(covariates = covar[mt.s])\n",
    "mt.describe()"
   ]
  },
  {
   "cell_type": "markdown",
   "metadata": {},
   "source": [
    "### Now that we can perform the analysis!"
   ]
  },
  {
   "cell_type": "code",
   "execution_count": 6,
   "metadata": {},
   "outputs": [
    {
     "name": "stderr",
     "output_type": "stream",
     "text": [
      "2019-12-12 23:33:14 Hail: INFO: Wrote all 3 blocks of 8777 x 284 matrix with block size 4096.\n",
      "2019-12-12 23:33:15 Hail: INFO: wrote matrix with 284 rows and 284 columns as 1 block of size 4096 to output/gcta_analysis.bm\n"
     ]
    }
   ],
   "source": [
    "model, p = hl.linear_mixed_model(\n",
    "    y = mt.trait,\n",
    "    x = [1] + [ mt.covariates[i] for i in list(mt.covariates.keys())],\n",
    "    z_t = mt.GT.n_alt_alleles(),\n",
    "    p_path = 'output/gcta_analysis.bm',\n",
    "    overwrite = True\n",
    ")"
   ]
  },
  {
   "cell_type": "code",
   "execution_count": 7,
   "metadata": {},
   "outputs": [],
   "source": [
    "model.fit(bounds = (-100, 100))"
   ]
  },
  {
   "cell_type": "code",
   "execution_count": 8,
   "metadata": {},
   "outputs": [
    {
     "data": {
      "text/plain": [
       "0.0001414666728678219"
      ]
     },
     "execution_count": 8,
     "metadata": {},
     "output_type": "execute_result"
    }
   ],
   "source": [
    "model.h_sq "
   ]
  },
  {
   "cell_type": "code",
   "execution_count": 9,
   "metadata": {},
   "outputs": [],
   "source": [
    "def check(n):\n",
    "    return (np.exp(n) / 1 + np.exp(n))"
   ]
  },
  {
   "cell_type": "code",
   "execution_count": 10,
   "metadata": {},
   "outputs": [
    {
     "data": {
      "text/plain": [
       "0.006737946999085467"
      ]
     },
     "execution_count": 10,
     "metadata": {},
     "output_type": "execute_result"
    }
   ],
   "source": [
    "check(-5)/2"
   ]
  }
 ],
 "metadata": {
  "kernelspec": {
   "display_name": "Python 3",
   "language": "python",
   "name": "python3"
  },
  "language_info": {
   "codemirror_mode": {
    "name": "ipython",
    "version": 3
   },
   "file_extension": ".py",
   "mimetype": "text/x-python",
   "name": "python",
   "nbconvert_exporter": "python",
   "pygments_lexer": "ipython3",
   "version": "3.7.1"
  }
 },
 "nbformat": 4,
 "nbformat_minor": 2
}
