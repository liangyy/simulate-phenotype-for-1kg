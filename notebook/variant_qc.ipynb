{
 "cells": [
  {
   "cell_type": "code",
   "execution_count": 1,
   "metadata": {},
   "outputs": [
    {
     "name": "stderr",
     "output_type": "stream",
     "text": [
      "Running on Apache Spark version 2.4.1\n",
      "SparkUI available at http://10.151.24.211:4041\n",
      "Welcome to\n",
      "     __  __     <>__\n",
      "    / /_/ /__  __/ /\n",
      "   / __  / _ `/ / /\n",
      "  /_/ /_/\\_,_/_/_/   version 0.2.28-61941242c15d\n",
      "LOGGING: writing to /Users/yanyul/Documents/repo/github/toy-example-of-hail-using-1kg/notebook/hail-20191212-1501-0.2.28-61941242c15d.log\n"
     ]
    }
   ],
   "source": [
    "import hail as hl\n",
    "hl.init()"
   ]
  },
  {
   "cell_type": "code",
   "execution_count": 2,
   "metadata": {},
   "outputs": [],
   "source": [
    "mt = hl.read_matrix_table('data/1kg.mt')"
   ]
  },
  {
   "cell_type": "code",
   "execution_count": 3,
   "metadata": {},
   "outputs": [],
   "source": [
    "mt = hl.variant_qc(mt)"
   ]
  },
  {
   "cell_type": "code",
   "execution_count": 4,
   "metadata": {},
   "outputs": [
    {
     "name": "stdout",
     "output_type": "stream",
     "text": [
      "--------------------------------------------------------\n",
      "Type:\n",
      "        struct {\n",
      "        locus: locus<GRCh37>, \n",
      "        alleles: array<str>, \n",
      "        rsid: str, \n",
      "        qual: float64, \n",
      "        filters: set<str>, \n",
      "        info: struct {\n",
      "            AC: array<int32>, \n",
      "            AF: array<float64>, \n",
      "            AN: int32, \n",
      "            BaseQRankSum: float64, \n",
      "            ClippingRankSum: float64, \n",
      "            DP: int32, \n",
      "            DS: bool, \n",
      "            FS: float64, \n",
      "            HaplotypeScore: float64, \n",
      "            InbreedingCoeff: float64, \n",
      "            MLEAC: array<int32>, \n",
      "            MLEAF: array<float64>, \n",
      "            MQ: float64, \n",
      "            MQ0: int32, \n",
      "            MQRankSum: float64, \n",
      "            QD: float64, \n",
      "            ReadPosRankSum: float64, \n",
      "            set: str\n",
      "        }, \n",
      "        variant_qc: struct {\n",
      "            dp_stats: struct {\n",
      "                mean: float64, \n",
      "                stdev: float64, \n",
      "                min: float64, \n",
      "                max: float64\n",
      "            }, \n",
      "            gq_stats: struct {\n",
      "                mean: float64, \n",
      "                stdev: float64, \n",
      "                min: float64, \n",
      "                max: float64\n",
      "            }, \n",
      "            AC: array<int32>, \n",
      "            AF: array<float64>, \n",
      "            AN: int32, \n",
      "            homozygote_count: array<int32>, \n",
      "            call_rate: float64, \n",
      "            n_called: int64, \n",
      "            n_not_called: int64, \n",
      "            n_filtered: int64, \n",
      "            n_het: int64, \n",
      "            n_non_ref: int64, \n",
      "            het_freq_hwe: float64, \n",
      "            p_value_hwe: float64\n",
      "        }\n",
      "    }\n",
      "--------------------------------------------------------\n",
      "Source:\n",
      "    <hail.matrixtable.MatrixTable object at 0x1a18cba470>\n",
      "Index:\n",
      "    ['row']\n",
      "--------------------------------------------------------\n"
     ]
    }
   ],
   "source": [
    "mt.row.describe()"
   ]
  },
  {
   "cell_type": "code",
   "execution_count": 5,
   "metadata": {},
   "outputs": [],
   "source": [
    "mt = mt.filter_rows(mt.variant_qc.AF[0] > 0.01)\n",
    "mt = mt.filter_rows(mt.variant_qc.AF[1] > 0.01)\n",
    "mt = mt.filter_rows(mt.variant_qc.p_value_hwe > 1e-10)"
   ]
  },
  {
   "cell_type": "code",
   "execution_count": 6,
   "metadata": {},
   "outputs": [
    {
     "name": "stderr",
     "output_type": "stream",
     "text": [
      "2019-12-12 15:01:49 Hail: INFO: wrote table with 8777 rows in 2 partitions to output/variant_qc.ht\n"
     ]
    }
   ],
   "source": [
    "mt.rows().write('output/variant_qc.ht', overwrite = True)"
   ]
  }
 ],
 "metadata": {
  "kernelspec": {
   "display_name": "Python 3",
   "language": "python",
   "name": "python3"
  },
  "language_info": {
   "codemirror_mode": {
    "name": "ipython",
    "version": 3
   },
   "file_extension": ".py",
   "mimetype": "text/x-python",
   "name": "python",
   "nbconvert_exporter": "python",
   "pygments_lexer": "ipython3",
   "version": "3.7.1"
  }
 },
 "nbformat": 4,
 "nbformat_minor": 2
}
